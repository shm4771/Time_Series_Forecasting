{
 "cells": [
  {
   "cell_type": "code",
   "execution_count": 2,
   "metadata": {},
   "outputs": [],
   "source": [
    "import pandas as pd\n",
    "import numpy as np\n",
    "import matplotlib.pyplot as plt"
   ]
  },
  {
   "cell_type": "code",
   "execution_count": 74,
   "metadata": {},
   "outputs": [],
   "source": [
    "df = pd.read_csv('Sales_Transactions_Dataset_Weekly.csv')"
   ]
  },
  {
   "cell_type": "code",
   "execution_count": 132,
   "metadata": {},
   "outputs": [],
   "source": [
    "df = df.loc[:, :'W51']\n",
    "#columns after this contains normalized values"
   ]
  },
  {
   "cell_type": "code",
   "execution_count": 76,
   "metadata": {},
   "outputs": [
    {
     "data": {
      "text/html": [
       "<div>\n",
       "<style scoped>\n",
       "    .dataframe tbody tr th:only-of-type {\n",
       "        vertical-align: middle;\n",
       "    }\n",
       "\n",
       "    .dataframe tbody tr th {\n",
       "        vertical-align: top;\n",
       "    }\n",
       "\n",
       "    .dataframe thead th {\n",
       "        text-align: right;\n",
       "    }\n",
       "</style>\n",
       "<table border=\"1\" class=\"dataframe\">\n",
       "  <thead>\n",
       "    <tr style=\"text-align: right;\">\n",
       "      <th></th>\n",
       "      <th>Product_Code</th>\n",
       "      <th>W0</th>\n",
       "      <th>W1</th>\n",
       "      <th>W2</th>\n",
       "      <th>W3</th>\n",
       "      <th>W4</th>\n",
       "      <th>W5</th>\n",
       "      <th>W6</th>\n",
       "      <th>W7</th>\n",
       "      <th>W8</th>\n",
       "      <th>...</th>\n",
       "      <th>W42</th>\n",
       "      <th>W43</th>\n",
       "      <th>W44</th>\n",
       "      <th>W45</th>\n",
       "      <th>W46</th>\n",
       "      <th>W47</th>\n",
       "      <th>W48</th>\n",
       "      <th>W49</th>\n",
       "      <th>W50</th>\n",
       "      <th>W51</th>\n",
       "    </tr>\n",
       "  </thead>\n",
       "  <tbody>\n",
       "    <tr>\n",
       "      <th>0</th>\n",
       "      <td>P1</td>\n",
       "      <td>11</td>\n",
       "      <td>12</td>\n",
       "      <td>10</td>\n",
       "      <td>8</td>\n",
       "      <td>13</td>\n",
       "      <td>12</td>\n",
       "      <td>14</td>\n",
       "      <td>21</td>\n",
       "      <td>6</td>\n",
       "      <td>...</td>\n",
       "      <td>4</td>\n",
       "      <td>7</td>\n",
       "      <td>8</td>\n",
       "      <td>10</td>\n",
       "      <td>12</td>\n",
       "      <td>3</td>\n",
       "      <td>7</td>\n",
       "      <td>6</td>\n",
       "      <td>5</td>\n",
       "      <td>10</td>\n",
       "    </tr>\n",
       "    <tr>\n",
       "      <th>1</th>\n",
       "      <td>P2</td>\n",
       "      <td>7</td>\n",
       "      <td>6</td>\n",
       "      <td>3</td>\n",
       "      <td>2</td>\n",
       "      <td>7</td>\n",
       "      <td>1</td>\n",
       "      <td>6</td>\n",
       "      <td>3</td>\n",
       "      <td>3</td>\n",
       "      <td>...</td>\n",
       "      <td>2</td>\n",
       "      <td>4</td>\n",
       "      <td>5</td>\n",
       "      <td>1</td>\n",
       "      <td>1</td>\n",
       "      <td>4</td>\n",
       "      <td>5</td>\n",
       "      <td>1</td>\n",
       "      <td>6</td>\n",
       "      <td>0</td>\n",
       "    </tr>\n",
       "    <tr>\n",
       "      <th>2</th>\n",
       "      <td>P3</td>\n",
       "      <td>7</td>\n",
       "      <td>11</td>\n",
       "      <td>8</td>\n",
       "      <td>9</td>\n",
       "      <td>10</td>\n",
       "      <td>8</td>\n",
       "      <td>7</td>\n",
       "      <td>13</td>\n",
       "      <td>12</td>\n",
       "      <td>...</td>\n",
       "      <td>6</td>\n",
       "      <td>14</td>\n",
       "      <td>5</td>\n",
       "      <td>5</td>\n",
       "      <td>7</td>\n",
       "      <td>8</td>\n",
       "      <td>14</td>\n",
       "      <td>8</td>\n",
       "      <td>8</td>\n",
       "      <td>7</td>\n",
       "    </tr>\n",
       "    <tr>\n",
       "      <th>3</th>\n",
       "      <td>P4</td>\n",
       "      <td>12</td>\n",
       "      <td>8</td>\n",
       "      <td>13</td>\n",
       "      <td>5</td>\n",
       "      <td>9</td>\n",
       "      <td>6</td>\n",
       "      <td>9</td>\n",
       "      <td>13</td>\n",
       "      <td>13</td>\n",
       "      <td>...</td>\n",
       "      <td>9</td>\n",
       "      <td>10</td>\n",
       "      <td>3</td>\n",
       "      <td>4</td>\n",
       "      <td>6</td>\n",
       "      <td>8</td>\n",
       "      <td>14</td>\n",
       "      <td>8</td>\n",
       "      <td>7</td>\n",
       "      <td>8</td>\n",
       "    </tr>\n",
       "    <tr>\n",
       "      <th>4</th>\n",
       "      <td>P5</td>\n",
       "      <td>8</td>\n",
       "      <td>5</td>\n",
       "      <td>13</td>\n",
       "      <td>11</td>\n",
       "      <td>6</td>\n",
       "      <td>7</td>\n",
       "      <td>9</td>\n",
       "      <td>14</td>\n",
       "      <td>9</td>\n",
       "      <td>...</td>\n",
       "      <td>7</td>\n",
       "      <td>11</td>\n",
       "      <td>7</td>\n",
       "      <td>12</td>\n",
       "      <td>6</td>\n",
       "      <td>6</td>\n",
       "      <td>5</td>\n",
       "      <td>11</td>\n",
       "      <td>8</td>\n",
       "      <td>9</td>\n",
       "    </tr>\n",
       "  </tbody>\n",
       "</table>\n",
       "<p>5 rows × 53 columns</p>\n",
       "</div>"
      ],
      "text/plain": [
       "  Product_Code  W0  W1  W2  W3  W4  W5  W6  W7  W8 ...   W42  W43  W44  W45  \\\n",
       "0           P1  11  12  10   8  13  12  14  21   6 ...     4    7    8   10   \n",
       "1           P2   7   6   3   2   7   1   6   3   3 ...     2    4    5    1   \n",
       "2           P3   7  11   8   9  10   8   7  13  12 ...     6   14    5    5   \n",
       "3           P4  12   8  13   5   9   6   9  13  13 ...     9   10    3    4   \n",
       "4           P5   8   5  13  11   6   7   9  14   9 ...     7   11    7   12   \n",
       "\n",
       "   W46  W47  W48  W49  W50  W51  \n",
       "0   12    3    7    6    5   10  \n",
       "1    1    4    5    1    6    0  \n",
       "2    7    8   14    8    8    7  \n",
       "3    6    8   14    8    7    8  \n",
       "4    6    6    5   11    8    9  \n",
       "\n",
       "[5 rows x 53 columns]"
      ]
     },
     "execution_count": 76,
     "metadata": {},
     "output_type": "execute_result"
    }
   ],
   "source": [
    "df.head()"
   ]
  },
  {
   "cell_type": "code",
   "execution_count": 94,
   "metadata": {},
   "outputs": [
    {
     "data": {
      "text/html": [
       "<div>\n",
       "<style scoped>\n",
       "    .dataframe tbody tr th:only-of-type {\n",
       "        vertical-align: middle;\n",
       "    }\n",
       "\n",
       "    .dataframe tbody tr th {\n",
       "        vertical-align: top;\n",
       "    }\n",
       "\n",
       "    .dataframe thead th {\n",
       "        text-align: right;\n",
       "    }\n",
       "</style>\n",
       "<table border=\"1\" class=\"dataframe\">\n",
       "  <thead>\n",
       "    <tr style=\"text-align: right;\">\n",
       "      <th></th>\n",
       "      <th>Product_Code</th>\n",
       "      <th>week</th>\n",
       "      <th>sale</th>\n",
       "    </tr>\n",
       "  </thead>\n",
       "  <tbody>\n",
       "    <tr>\n",
       "      <th>0</th>\n",
       "      <td>P1</td>\n",
       "      <td>W0</td>\n",
       "      <td>11</td>\n",
       "    </tr>\n",
       "    <tr>\n",
       "      <th>1</th>\n",
       "      <td>P2</td>\n",
       "      <td>W0</td>\n",
       "      <td>7</td>\n",
       "    </tr>\n",
       "    <tr>\n",
       "      <th>2</th>\n",
       "      <td>P3</td>\n",
       "      <td>W0</td>\n",
       "      <td>7</td>\n",
       "    </tr>\n",
       "    <tr>\n",
       "      <th>3</th>\n",
       "      <td>P4</td>\n",
       "      <td>W0</td>\n",
       "      <td>12</td>\n",
       "    </tr>\n",
       "    <tr>\n",
       "      <th>4</th>\n",
       "      <td>P5</td>\n",
       "      <td>W0</td>\n",
       "      <td>8</td>\n",
       "    </tr>\n",
       "  </tbody>\n",
       "</table>\n",
       "</div>"
      ],
      "text/plain": [
       "  Product_Code week  sale\n",
       "0           P1   W0    11\n",
       "1           P2   W0     7\n",
       "2           P3   W0     7\n",
       "3           P4   W0    12\n",
       "4           P5   W0     8"
      ]
     },
     "execution_count": 94,
     "metadata": {},
     "output_type": "execute_result"
    }
   ],
   "source": [
    "#we will convert this data into long form using melt method\n",
    "melt = pd.melt(df, id_vars=['Product_Code'], var_name='week', value_name='sale')\n",
    "melt.head()"
   ]
  },
  {
   "cell_type": "code",
   "execution_count": 128,
   "metadata": {},
   "outputs": [
    {
     "data": {
      "text/plain": [
       "<matplotlib.text.Text at 0x7f4043ca6358>"
      ]
     },
     "execution_count": 128,
     "metadata": {},
     "output_type": "execute_result"
    },
    {
     "data": {
      "image/png": "[encoded data removed]",
      "text/plain": [
       "<matplotlib.figure.Figure at 0x7f4043cc4208>"
      ]
     },
     "metadata": {},
     "output_type": "display_data"
    }
   ],
   "source": [
    "#Let's plot the week 0 data\n",
    "melt[0:100]['sale'].plot()\n",
    "plt.xlabel(\"weeks\")\n",
    "plt.ylabel(\"sales\")\n",
    "plt.title(\"sales v/s weeks\")"
   ]
  },
  {
   "cell_type": "code",
   "execution_count": 167,
   "metadata": {},
   "outputs": [],
   "source": [
    "#As it can be seen there is not much trend or seasonality in data\n",
    "#thus we can directly use the random forest without detrending"
   ]
  },
  {
   "cell_type": "code",
   "execution_count": 95,
   "metadata": {},
   "outputs": [
    {
     "data": {
      "text/html": [
       "<div>\n",
       "<style scoped>\n",
       "    .dataframe tbody tr th:only-of-type {\n",
       "        vertical-align: middle;\n",
       "    }\n",
       "\n",
       "    .dataframe tbody tr th {\n",
       "        vertical-align: top;\n",
       "    }\n",
       "\n",
       "    .dataframe thead th {\n",
       "        text-align: right;\n",
       "    }\n",
       "</style>\n",
       "<table border=\"1\" class=\"dataframe\">\n",
       "  <thead>\n",
       "    <tr style=\"text-align: right;\">\n",
       "      <th></th>\n",
       "      <th>Product_Code</th>\n",
       "      <th>week</th>\n",
       "      <th>sale</th>\n",
       "    </tr>\n",
       "  </thead>\n",
       "  <tbody>\n",
       "    <tr>\n",
       "      <th>0</th>\n",
       "      <td>1</td>\n",
       "      <td>0</td>\n",
       "      <td>11</td>\n",
       "    </tr>\n",
       "    <tr>\n",
       "      <th>1</th>\n",
       "      <td>2</td>\n",
       "      <td>0</td>\n",
       "      <td>7</td>\n",
       "    </tr>\n",
       "    <tr>\n",
       "      <th>2</th>\n",
       "      <td>3</td>\n",
       "      <td>0</td>\n",
       "      <td>7</td>\n",
       "    </tr>\n",
       "    <tr>\n",
       "      <th>3</th>\n",
       "      <td>4</td>\n",
       "      <td>0</td>\n",
       "      <td>12</td>\n",
       "    </tr>\n",
       "    <tr>\n",
       "      <th>4</th>\n",
       "      <td>5</td>\n",
       "      <td>0</td>\n",
       "      <td>8</td>\n",
       "    </tr>\n",
       "  </tbody>\n",
       "</table>\n",
       "</div>"
      ],
      "text/plain": [
       "   Product_Code  week  sale\n",
       "0             1     0    11\n",
       "1             2     0     7\n",
       "2             3     0     7\n",
       "3             4     0    12\n",
       "4             5     0     8"
      ]
     },
     "execution_count": 95,
     "metadata": {},
     "output_type": "execute_result"
    }
   ],
   "source": [
    "#here we have to bring values into numbers\n",
    "#we convert \"P1\" into 1 and \"W1\" into 1\n",
    "# we will use extract method of series\n",
    "melt.Product_Code = melt.Product_Code.str.extract(pat='(\\d+)', expand=False).astype(int)\n",
    "melt.week = melt.week.str.extract(pat='(\\d+)', expand=False).astype(int)\n",
    "melt.head()"
   ]
  },
  {
   "cell_type": "code",
   "execution_count": 86,
   "metadata": {},
   "outputs": [],
   "source": [
    "#out dataset is ready\n",
    "# Now we will perform some feature engineering"
   ]
  },
  {
   "cell_type": "code",
   "execution_count": 104,
   "metadata": {},
   "outputs": [],
   "source": [
    "#create difference features\n",
    "#group by product code and perform shift in sale\n",
    "melt_2 = melt.copy()\n",
    "melt_2['Last_1_week_sales'] = melt_2.groupby(['Product_Code'])['sale'].shift(1)\n",
    "melt_2['Last_1_week_diff'] = melt_2.groupby(['Product_Code'])['Last_1_week_sales'].diff(1)\n",
    "melt_2['Last_2_week_sales'] = melt_2.groupby(['Product_Code'])['sale'].shift(2)\n",
    "melt_2['Last_2_week_diff'] = melt_2.groupby(['Product_Code'])['Last_2_week_sales'].diff(1)\n",
    "melt_3 = melt_2.dropna()b"
   ]
  },
  {
   "cell_type": "code",
   "execution_count": 107,
   "metadata": {},
   "outputs": [
    {
     "data": {
      "text/html": [
       "<div>\n",
       "<style scoped>\n",
       "    .dataframe tbody tr th:only-of-type {\n",
       "        vertical-align: middle;\n",
       "    }\n",
       "\n",
       "    .dataframe tbody tr th {\n",
       "        vertical-align: top;\n",
       "    }\n",
       "\n",
       "    .dataframe thead th {\n",
       "        text-align: right;\n",
       "    }\n",
       "</style>\n",
       "<table border=\"1\" class=\"dataframe\">\n",
       "  <thead>\n",
       "    <tr style=\"text-align: right;\">\n",
       "      <th></th>\n",
       "      <th>Product_Code</th>\n",
       "      <th>week</th>\n",
       "      <th>sale</th>\n",
       "      <th>Last_1_week_sales</th>\n",
       "      <th>Last_1_week_diff</th>\n",
       "      <th>Last_2_week_sales</th>\n",
       "      <th>Last_2_week_diff</th>\n",
       "    </tr>\n",
       "  </thead>\n",
       "  <tbody>\n",
       "    <tr>\n",
       "      <th>2433</th>\n",
       "      <td>1</td>\n",
       "      <td>3</td>\n",
       "      <td>8</td>\n",
       "      <td>10.0</td>\n",
       "      <td>-2.0</td>\n",
       "      <td>12.0</td>\n",
       "      <td>1.0</td>\n",
       "    </tr>\n",
       "    <tr>\n",
       "      <th>2434</th>\n",
       "      <td>2</td>\n",
       "      <td>3</td>\n",
       "      <td>2</td>\n",
       "      <td>3.0</td>\n",
       "      <td>-3.0</td>\n",
       "      <td>6.0</td>\n",
       "      <td>-1.0</td>\n",
       "    </tr>\n",
       "    <tr>\n",
       "      <th>2435</th>\n",
       "      <td>3</td>\n",
       "      <td>3</td>\n",
       "      <td>9</td>\n",
       "      <td>8.0</td>\n",
       "      <td>-3.0</td>\n",
       "      <td>11.0</td>\n",
       "      <td>4.0</td>\n",
       "    </tr>\n",
       "    <tr>\n",
       "      <th>2436</th>\n",
       "      <td>4</td>\n",
       "      <td>3</td>\n",
       "      <td>5</td>\n",
       "      <td>13.0</td>\n",
       "      <td>5.0</td>\n",
       "      <td>8.0</td>\n",
       "      <td>-4.0</td>\n",
       "    </tr>\n",
       "    <tr>\n",
       "      <th>2437</th>\n",
       "      <td>5</td>\n",
       "      <td>3</td>\n",
       "      <td>11</td>\n",
       "      <td>13.0</td>\n",
       "      <td>8.0</td>\n",
       "      <td>5.0</td>\n",
       "      <td>-3.0</td>\n",
       "    </tr>\n",
       "  </tbody>\n",
       "</table>\n",
       "</div>"
      ],
      "text/plain": [
       "      Product_Code  week  sale  Last_1_week_sales  Last_1_week_diff  \\\n",
       "2433             1     3     8               10.0              -2.0   \n",
       "2434             2     3     2                3.0              -3.0   \n",
       "2435             3     3     9                8.0              -3.0   \n",
       "2436             4     3     5               13.0               5.0   \n",
       "2437             5     3    11               13.0               8.0   \n",
       "\n",
       "      Last_2_week_sales  Last_2_week_diff  \n",
       "2433               12.0               1.0  \n",
       "2434                6.0              -1.0  \n",
       "2435               11.0               4.0  \n",
       "2436                8.0              -4.0  \n",
       "2437                5.0              -3.0  "
      ]
     },
     "execution_count": 107,
     "metadata": {},
     "output_type": "execute_result"
    }
   ],
   "source": [
    "melt_3.head()"
   ]
  },
  {
   "cell_type": "code",
   "execution_count": 122,
   "metadata": {},
   "outputs": [
    {
     "data": {
      "text/plain": [
       "array([<matplotlib.axes._subplots.AxesSubplot object at 0x7f40487ddeb8>,\n",
       "       <matplotlib.axes._subplots.AxesSubplot object at 0x7f4043e85860>],\n",
       "      dtype=object)"
      ]
     },
     "execution_count": 122,
     "metadata": {},
     "output_type": "execute_result"
    },
    {
     "data": {
      "image/png": "[encoded data removed]",
      "text/plain": [
       "<matplotlib.figure.Figure at 0x7f4043f9d8d0>"
      ]
     },
     "metadata": {},
     "output_type": "display_data"
    }
   ],
   "source": [
    "#Let's plot subplots to see if features make sense\n",
    "melt_3[0:1000][['sale', 'Last_1_week_sales']].plot(subplots=True)"
   ]
  },
  {
   "cell_type": "code",
   "execution_count": 130,
   "metadata": {},
   "outputs": [],
   "source": [
    "#It's clear that chosen feature has predictable power for sales"
   ]
  },
  {
   "cell_type": "code",
   "execution_count": 138,
   "metadata": {},
   "outputs": [],
   "source": [
    "# error function\n",
    "from sklearn.metrics import mean_squared_log_error\n",
    "# we will take squareroot of the above error"
   ]
  },
  {
   "cell_type": "code",
   "execution_count": 144,
   "metadata": {},
   "outputs": [
    {
     "name": "stdout",
     "output_type": "stream",
     "text": [
      "rmsle for week  43 is:  0.5079204595063594\n",
      "rmsle for week  44 is:  0.5340885312370197\n",
      "rmsle for week  45 is:  0.5234709783234434\n",
      "rmsle for week  46 is:  0.5001778165328664\n",
      "rmsle for week  47 is:  0.49138005062262924\n",
      "rmsle for week  48 is:  0.5058450575478507\n",
      "rmsle for week  49 is:  0.5054683594189949\n",
      "rmsle for week  50 is:  0.5222037522547665\n",
      "rmsle for week  51 is:  0.5524234818116678\n"
     ]
    }
   ],
   "source": [
    "#Now we will build a baseline model to compare our results\n",
    "# we will train model using the data till week 43 and predict sales for week 43 to 53\n",
    "# We will use Root Mean Squared Log Error to compare results\n",
    "\n",
    "#Base line model\n",
    "base_error = []\n",
    "for week in range(43, 52):\n",
    "    y_true = melt_3[melt_3['week'] == week]['sale'].values #series to numpy array\n",
    "    y_pred = melt_3[melt_3['week'] == week]['Last_1_week_sales'].values #series to numpy array\n",
    "    \n",
    "    error = np.sqrt(mean_squared_log_error(y_true, y_pred))\n",
    "    base_error.append(error)\n",
    "    \n",
    "    print(\"rmsle for week \", week, \"is: \", error)"
   ]
  },
  {
   "cell_type": "code",
   "execution_count": 145,
   "metadata": {},
   "outputs": [],
   "source": [
    "# our model has to perform better than the base line model"
   ]
  },
  {
   "cell_type": "code",
   "execution_count": 146,
   "metadata": {},
   "outputs": [
    {
     "data": {
      "text/plain": [
       "<matplotlib.axes._subplots.AxesSubplot at 0x7f403211ecc0>"
      ]
     },
     "execution_count": 146,
     "metadata": {},
     "output_type": "execute_result"
    },
    {
     "data": {
      "image/png": "[encoded data removed]",
      "text/plain": [
       "<matplotlib.figure.Figure at 0x7f40311cb358>"
      ]
     },
     "metadata": {},
     "output_type": "display_data"
    }
   ],
   "source": [
    "#Let's see the distribution of sales in data using histgram\n",
    "melt_3['sale'].hist()"
   ]
  },
  {
   "cell_type": "code",
   "execution_count": 148,
   "metadata": {},
   "outputs": [],
   "source": [
    "#It clearly says that sales for majority of item is quite low"
   ]
  },
  {
   "cell_type": "code",
   "execution_count": 149,
   "metadata": {},
   "outputs": [],
   "source": [
    "from sklearn.ensemble import RandomForestRegressor"
   ]
  },
  {
   "cell_type": "code",
   "execution_count": 164,
   "metadata": {},
   "outputs": [
    {
     "name": "stdout",
     "output_type": "stream",
     "text": [
      "model rmsle for week  43 is:  0.19196064636359297\n",
      "model rmsle for week  44 is:  0.20944534147924374\n",
      "model rmsle for week  45 is:  0.17806195470408945\n",
      "model rmsle for week  46 is:  0.1986432174428974\n",
      "model rmsle for week  47 is:  0.1907475927903476\n",
      "model rmsle for week  48 is:  0.18508957061481573\n",
      "model rmsle for week  49 is:  0.18728334887812692\n",
      "model rmsle for week  50 is:  0.20519553736596\n",
      "model rmsle for week  51 is:  0.2009207764428151\n"
     ]
    }
   ],
   "source": [
    "#regression model\n",
    "model_error = []\n",
    "for week in range(43, 52):\n",
    "    train_data = melt_3[melt_3['week'] <= week]\n",
    "    test_data = melt_3[melt_3['week'] == week]\n",
    "    \n",
    "    #training data\n",
    "    x_train, y_train = train_data.drop('sale', axis=1), train_data['sale']\n",
    "    x_test, y_test = test_data.drop('sale', axis=1), test_data['sale']\n",
    "    \n",
    "    #build model\n",
    "    model = RandomForestRegressor(n_estimators=1000, n_jobs=-1, random_state=0) #-1 to use full cpu\n",
    "    model.fit(x_train, y_train)\n",
    "    \n",
    "    #predict\n",
    "    y_pred = model.predict(x_test)\n",
    "    \n",
    "    #compute error\n",
    "    y_true = y_test.values\n",
    "    error = np.sqrt(mean_squared_log_error(y_true, y_pred))\n",
    "    model_error.append(error)\n",
    "    \n",
    "    #print and save error\n",
    "    print(\"model rmsle for week \", week, \"is: \", error)\n",
    "    model_error.append(error)"
   ]
  },
  {
   "cell_type": "code",
   "execution_count": 158,
   "metadata": {},
   "outputs": [],
   "source": [
    "#That is awesome"
   ]
  },
  {
   "cell_type": "code",
   "execution_count": 159,
   "metadata": {},
   "outputs": [],
   "source": [
    "#remember, random forest train our model using mean square error as error function.\n",
    "#Let's change that into root log mean square"
   ]
  },
  {
   "cell_type": "code",
   "execution_count": 166,
   "metadata": {},
   "outputs": [
    {
     "name": "stdout",
     "output_type": "stream",
     "text": [
      "model rmsle for week  43 is:  0.15656159792926477\n",
      "model rmsle for week  44 is:  0.16761415427729326\n",
      "model rmsle for week  45 is:  0.1515976446781353\n",
      "model rmsle for week  46 is:  0.16566315240020515\n",
      "model rmsle for week  47 is:  0.1535825151202442\n",
      "model rmsle for week  48 is:  0.15949818517220474\n",
      "model rmsle for week  49 is:  0.1598867014050453\n",
      "model rmsle for week  50 is:  0.16966993138730757\n",
      "model rmsle for week  51 is:  0.17232046688600317\n"
     ]
    }
   ],
   "source": [
    "#regression model -> rmlse as error function for training\n",
    "model_error = []\n",
    "for week in range(43, 52):\n",
    "    train_data = melt_3[melt_3['week'] <= week]\n",
    "    test_data = melt_3[melt_3['week'] == week]\n",
    "    \n",
    "    #training data\n",
    "    x_train, y_train = train_data.drop('sale', axis=1), train_data['sale']\n",
    "    x_test, y_test = test_data.drop('sale', axis=1), test_data['sale']\n",
    "    \n",
    "    #build model\n",
    "    model = RandomForestRegressor(n_estimators=1000, n_jobs=-1, random_state=0) #-1 to use full cpu\n",
    "    model.fit(x_train, np.log1p(y_train)) #1p to avoid log(0)\n",
    "    \n",
    "    #predict\n",
    "    y_pred = np.expm1(model.predict(x_test)) #taking exp to use rmlse \n",
    "    \n",
    "    #compute error\n",
    "    y_true = y_test.values\n",
    "    error = np.sqrt(mean_squared_log_error(y_true, y_pred))\n",
    "    model_error.append(error)\n",
    "    \n",
    "    #print and save error\n",
    "    print(\"model rmsle for week \", week, \"is: \", error)\n",
    "    model_error.append(error)"
   ]
  },
  {
   "cell_type": "code",
   "execution_count": 173,
   "metadata": {},
   "outputs": [
    {
     "data": {
      "text/plain": [
       "<matplotlib.collections.PathCollection at 0x7f402ef23e10>"
      ]
     },
     "execution_count": 173,
     "metadata": {},
     "output_type": "execute_result"
    },
    {
     "data": {
      "image/png": "[encoded data removed]",
      "text/plain": [
       "<matplotlib.figure.Figure at 0x7f402ecd0a20>"
      ]
     },
     "metadata": {},
     "output_type": "display_data"
    }
   ],
   "source": [
    "#As we can see the results are impressive.\n",
    "#Let's plot the predicted sales and actual sales in scatter plot for week 51 predictions\n",
    "true_sales = y_true #last entry\n",
    "pred_sales = np.round(y_pred) #last entry\n",
    "plt.scatter(true_sales, pred_sales)\n",
    "plt.xlabel(\"Actual sales\")\n",
    "plt"
   ]
  },
  {
   "cell_type": "code",
   "execution_count": 174,
   "metadata": {},
   "outputs": [],
   "source": [
    "# Model is performing good enough\n",
    "# We can see as sales is higher than 30/35, model is giving higher errros. \n",
    "# We can investigate into data and see if there is some trend or some other reason for that"
   ]
  },
  {
   "cell_type": "code",
   "execution_count": 169,
   "metadata": {},
   "outputs": [],
   "source": [
    "#Ideas to improve performance\n",
    "#1. Investigate the items(sales) for which model is not performing very well \n",
    "#2. increase number of classifiers and use bagging/boosting/pruning techniques\n",
    "#3. Increase more features\n",
    "#4. Try a neural network and ensemble with GBM\n",
    "#5. Try improved Random forest algorithms"
   ]
  }
 ],
 "metadata": {
  "kernelspec": {
   "display_name": "VPython",
   "language": "python",
   "name": "vpython"
  },
  "language_info": {
   "codemirror_mode": {
    "name": "ipython",
    "version": 3
   },
   "file_extension": ".py",
   "mimetype": "text/x-python",
   "name": "python",
   "nbconvert_exporter": "python",
   "pygments_lexer": "ipython3",
   "version": "3.5.2"
  }
 },
 "nbformat": 4,
 "nbformat_minor": 2
}
